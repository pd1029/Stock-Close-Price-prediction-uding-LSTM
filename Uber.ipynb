{
 "cells": [
  {
   "cell_type": "code",
   "execution_count": 26,
   "metadata": {
    "colab": {},
    "colab_type": "code",
    "id": "eKVgnha9-0LR"
   },
   "outputs": [],
   "source": [
    "import pandas as pd\n",
    "import geopandas as gpd\n",
    "from shapely.geometry import Point,Polygon\n",
    "%matplotlib inline\n",
    "import matplotlib.pyplot as plt\n",
    "import numpy as np\n"
   ]
  },
  {
   "cell_type": "code",
   "execution_count": 63,
   "metadata": {
    "colab": {
     "base_uri": "https://localhost:8080/",
     "height": 217
    },
    "colab_type": "code",
    "id": "qz-3vSK9-9ZR",
    "outputId": "39a95c47-7b7e-4fcd-a653-e6f768387220"
   },
   "outputs": [
    {
     "data": {
      "text/html": [
       "<div>\n",
       "<style scoped>\n",
       "    .dataframe tbody tr th:only-of-type {\n",
       "        vertical-align: middle;\n",
       "    }\n",
       "\n",
       "    .dataframe tbody tr th {\n",
       "        vertical-align: top;\n",
       "    }\n",
       "\n",
       "    .dataframe thead th {\n",
       "        text-align: right;\n",
       "    }\n",
       "</style>\n",
       "<table border=\"1\" class=\"dataframe\">\n",
       "  <thead>\n",
       "    <tr style=\"text-align: right;\">\n",
       "      <th></th>\n",
       "      <th>sourceid</th>\n",
       "      <th>Longitude</th>\n",
       "      <th>Latitude</th>\n",
       "      <th>dstid</th>\n",
       "      <th>Long2</th>\n",
       "      <th>Lat2</th>\n",
       "      <th>DISTANCE2</th>\n",
       "      <th>mean_tt</th>\n",
       "      <th>tt_in_mins</th>\n",
       "      <th>standard_deviation_travel_time</th>\n",
       "      <th>geometric_mean_travel_time</th>\n",
       "      <th>geometric_standard_deviation_travel_time</th>\n",
       "      <th>stand_tt</th>\n",
       "      <th>geom_tt</th>\n",
       "      <th>st_geo_tt</th>\n",
       "    </tr>\n",
       "  </thead>\n",
       "  <tbody>\n",
       "    <tr>\n",
       "      <th>0</th>\n",
       "      <td>88</td>\n",
       "      <td>77.592294</td>\n",
       "      <td>13.097196</td>\n",
       "      <td>33</td>\n",
       "      <td>77.580023</td>\n",
       "      <td>13.108276</td>\n",
       "      <td>1.126059</td>\n",
       "      <td>2022.22</td>\n",
       "      <td>33.703667</td>\n",
       "      <td>665.53</td>\n",
       "      <td>1944.10</td>\n",
       "      <td>1.31</td>\n",
       "      <td>11.092167</td>\n",
       "      <td>32.401667</td>\n",
       "      <td>0.021833</td>\n",
       "    </tr>\n",
       "    <tr>\n",
       "      <th>1</th>\n",
       "      <td>163</td>\n",
       "      <td>77.590945</td>\n",
       "      <td>13.098422</td>\n",
       "      <td>16</td>\n",
       "      <td>77.579874</td>\n",
       "      <td>13.086915</td>\n",
       "      <td>1.089601</td>\n",
       "      <td>3159.21</td>\n",
       "      <td>52.653500</td>\n",
       "      <td>680.03</td>\n",
       "      <td>3095.19</td>\n",
       "      <td>1.22</td>\n",
       "      <td>11.333833</td>\n",
       "      <td>51.586500</td>\n",
       "      <td>0.020333</td>\n",
       "    </tr>\n",
       "    <tr>\n",
       "      <th>2</th>\n",
       "      <td>160</td>\n",
       "      <td>77.589080</td>\n",
       "      <td>13.100057</td>\n",
       "      <td>46</td>\n",
       "      <td>77.595099</td>\n",
       "      <td>13.107210</td>\n",
       "      <td>0.639010</td>\n",
       "      <td>3943.34</td>\n",
       "      <td>65.722333</td>\n",
       "      <td>581.21</td>\n",
       "      <td>3900.20</td>\n",
       "      <td>1.16</td>\n",
       "      <td>9.686833</td>\n",
       "      <td>65.003333</td>\n",
       "      <td>0.019333</td>\n",
       "    </tr>\n",
       "    <tr>\n",
       "      <th>3</th>\n",
       "      <td>162</td>\n",
       "      <td>77.587331</td>\n",
       "      <td>13.101375</td>\n",
       "      <td>26</td>\n",
       "      <td>77.587944</td>\n",
       "      <td>13.123785</td>\n",
       "      <td>1.548969</td>\n",
       "      <td>3193.64</td>\n",
       "      <td>53.227333</td>\n",
       "      <td>615.47</td>\n",
       "      <td>3143.88</td>\n",
       "      <td>1.19</td>\n",
       "      <td>10.257833</td>\n",
       "      <td>52.398000</td>\n",
       "      <td>0.019833</td>\n",
       "    </tr>\n",
       "    <tr>\n",
       "      <th>4</th>\n",
       "      <td>84</td>\n",
       "      <td>77.587120</td>\n",
       "      <td>13.101557</td>\n",
       "      <td>73</td>\n",
       "      <td>77.754124</td>\n",
       "      <td>13.009115</td>\n",
       "      <td>12.928686</td>\n",
       "      <td>801.05</td>\n",
       "      <td>13.350833</td>\n",
       "      <td>324.42</td>\n",
       "      <td>766.42</td>\n",
       "      <td>1.31</td>\n",
       "      <td>5.407000</td>\n",
       "      <td>12.773667</td>\n",
       "      <td>0.021833</td>\n",
       "    </tr>\n",
       "  </tbody>\n",
       "</table>\n",
       "</div>"
      ],
      "text/plain": [
       "   sourceid  Longitude   Latitude  dstid      Long2       Lat2  DISTANCE2  \\\n",
       "0        88  77.592294  13.097196     33  77.580023  13.108276   1.126059   \n",
       "1       163  77.590945  13.098422     16  77.579874  13.086915   1.089601   \n",
       "2       160  77.589080  13.100057     46  77.595099  13.107210   0.639010   \n",
       "3       162  77.587331  13.101375     26  77.587944  13.123785   1.548969   \n",
       "4        84  77.587120  13.101557     73  77.754124  13.009115  12.928686   \n",
       "\n",
       "   mean_tt  tt_in_mins  standard_deviation_travel_time  \\\n",
       "0  2022.22   33.703667                          665.53   \n",
       "1  3159.21   52.653500                          680.03   \n",
       "2  3943.34   65.722333                          581.21   \n",
       "3  3193.64   53.227333                          615.47   \n",
       "4   801.05   13.350833                          324.42   \n",
       "\n",
       "   geometric_mean_travel_time  geometric_standard_deviation_travel_time  \\\n",
       "0                     1944.10                                      1.31   \n",
       "1                     3095.19                                      1.22   \n",
       "2                     3900.20                                      1.16   \n",
       "3                     3143.88                                      1.19   \n",
       "4                      766.42                                      1.31   \n",
       "\n",
       "    stand_tt    geom_tt  st_geo_tt  \n",
       "0  11.092167  32.401667   0.021833  \n",
       "1  11.333833  51.586500   0.020333  \n",
       "2   9.686833  65.003333   0.019333  \n",
       "3  10.257833  52.398000   0.019833  \n",
       "4   5.407000  12.773667   0.021833  "
      ]
     },
     "execution_count": 63,
     "metadata": {},
     "output_type": "execute_result"
    }
   ],
   "source": [
    "bglr=pd.read_csv('DISTANCE CAL UBER.csv')\n",
    "bglr.head()"
   ]
  },
  {
   "cell_type": "code",
   "execution_count": 25,
   "metadata": {},
   "outputs": [
    {
     "data": {
      "text/html": [
       "<div>\n",
       "<style scoped>\n",
       "    .dataframe tbody tr th:only-of-type {\n",
       "        vertical-align: middle;\n",
       "    }\n",
       "\n",
       "    .dataframe tbody tr th {\n",
       "        vertical-align: top;\n",
       "    }\n",
       "\n",
       "    .dataframe thead th {\n",
       "        text-align: right;\n",
       "    }\n",
       "</style>\n",
       "<table border=\"1\" class=\"dataframe\">\n",
       "  <thead>\n",
       "    <tr style=\"text-align: right;\">\n",
       "      <th></th>\n",
       "      <th>Longitude</th>\n",
       "      <th>Latitude</th>\n",
       "      <th>Long2</th>\n",
       "      <th>Lat2</th>\n",
       "      <th>DISTANCE2</th>\n",
       "      <th>tt_in_mins</th>\n",
       "      <th>standard_deviation_travel_time</th>\n",
       "      <th>geometric_mean_travel_time</th>\n",
       "      <th>geometric_standard_deviation_travel_time</th>\n",
       "      <th>stand_tt</th>\n",
       "      <th>geom_tt</th>\n",
       "      <th>st_geo_tt</th>\n",
       "    </tr>\n",
       "  </thead>\n",
       "  <tbody>\n",
       "    <tr>\n",
       "      <th>851958</th>\n",
       "      <td>NaN</td>\n",
       "      <td>NaN</td>\n",
       "      <td>77.586291</td>\n",
       "      <td>NaN</td>\n",
       "      <td>5360.754510</td>\n",
       "      <td>75.538833</td>\n",
       "      <td>652.37</td>\n",
       "      <td>4488.16</td>\n",
       "      <td>1.15</td>\n",
       "      <td>10.872833</td>\n",
       "      <td>74.802667</td>\n",
       "      <td>0.019167</td>\n",
       "    </tr>\n",
       "    <tr>\n",
       "      <th>851959</th>\n",
       "      <td>NaN</td>\n",
       "      <td>NaN</td>\n",
       "      <td>77.565027</td>\n",
       "      <td>NaN</td>\n",
       "      <td>5359.285293</td>\n",
       "      <td>22.833333</td>\n",
       "      <td>693.47</td>\n",
       "      <td>1204.12</td>\n",
       "      <td>1.66</td>\n",
       "      <td>11.557833</td>\n",
       "      <td>20.068667</td>\n",
       "      <td>0.027667</td>\n",
       "    </tr>\n",
       "    <tr>\n",
       "      <th>851960</th>\n",
       "      <td>NaN</td>\n",
       "      <td>NaN</td>\n",
       "      <td>77.572257</td>\n",
       "      <td>NaN</td>\n",
       "      <td>5359.784850</td>\n",
       "      <td>46.552500</td>\n",
       "      <td>558.44</td>\n",
       "      <td>2743.98</td>\n",
       "      <td>1.20</td>\n",
       "      <td>9.307333</td>\n",
       "      <td>45.733000</td>\n",
       "      <td>0.020000</td>\n",
       "    </tr>\n",
       "    <tr>\n",
       "      <th>851961</th>\n",
       "      <td>NaN</td>\n",
       "      <td>NaN</td>\n",
       "      <td>77.572638</td>\n",
       "      <td>NaN</td>\n",
       "      <td>5359.811147</td>\n",
       "      <td>45.361000</td>\n",
       "      <td>474.52</td>\n",
       "      <td>2684.04</td>\n",
       "      <td>1.18</td>\n",
       "      <td>7.908667</td>\n",
       "      <td>44.734000</td>\n",
       "      <td>0.019667</td>\n",
       "    </tr>\n",
       "    <tr>\n",
       "      <th>851962</th>\n",
       "      <td>NaN</td>\n",
       "      <td>NaN</td>\n",
       "      <td>77.580023</td>\n",
       "      <td>NaN</td>\n",
       "      <td>5360.321421</td>\n",
       "      <td>49.097333</td>\n",
       "      <td>841.71</td>\n",
       "      <td>2820.82</td>\n",
       "      <td>1.35</td>\n",
       "      <td>14.028500</td>\n",
       "      <td>47.013667</td>\n",
       "      <td>0.022500</td>\n",
       "    </tr>\n",
       "  </tbody>\n",
       "</table>\n",
       "</div>"
      ],
      "text/plain": [
       "        Longitude  Latitude      Long2  Lat2    DISTANCE2  tt_in_mins  \\\n",
       "851958        NaN       NaN  77.586291   NaN  5360.754510   75.538833   \n",
       "851959        NaN       NaN  77.565027   NaN  5359.285293   22.833333   \n",
       "851960        NaN       NaN  77.572257   NaN  5359.784850   46.552500   \n",
       "851961        NaN       NaN  77.572638   NaN  5359.811147   45.361000   \n",
       "851962        NaN       NaN  77.580023   NaN  5360.321421   49.097333   \n",
       "\n",
       "        standard_deviation_travel_time  geometric_mean_travel_time  \\\n",
       "851958                          652.37                     4488.16   \n",
       "851959                          693.47                     1204.12   \n",
       "851960                          558.44                     2743.98   \n",
       "851961                          474.52                     2684.04   \n",
       "851962                          841.71                     2820.82   \n",
       "\n",
       "        geometric_standard_deviation_travel_time   stand_tt    geom_tt  \\\n",
       "851958                                      1.15  10.872833  74.802667   \n",
       "851959                                      1.66  11.557833  20.068667   \n",
       "851960                                      1.20   9.307333  45.733000   \n",
       "851961                                      1.18   7.908667  44.734000   \n",
       "851962                                      1.35  14.028500  47.013667   \n",
       "\n",
       "        st_geo_tt  \n",
       "851958   0.019167  \n",
       "851959   0.027667  \n",
       "851960   0.020000  \n",
       "851961   0.019667  \n",
       "851962   0.022500  "
      ]
     },
     "execution_count": 25,
     "metadata": {},
     "output_type": "execute_result"
    }
   ],
   "source": [
    "bglr.tail()"
   ]
  },
  {
   "cell_type": "code",
   "execution_count": 7,
   "metadata": {
    "colab": {
     "base_uri": "https://localhost:8080/",
     "height": 123
    },
    "colab_type": "code",
    "id": "3Qo-tIKEDaWy",
    "outputId": "7318f9ea-2bee-4135-c6b3-7eb77cbc127a"
   },
   "outputs": [
    {
     "data": {
      "text/plain": [
       "Index(['sourceid', 'Longitude', 'Latitude', 'dstid', 'Long2', 'Lat2',\n",
       "       'DISTANCE2', 'mean_tt', 'tt_in_mins', 'standard_deviation_travel_time',\n",
       "       'geometric_mean_travel_time',\n",
       "       'geometric_standard_deviation_travel_time', 'stand_tt', 'geom_tt',\n",
       "       'st_geo_tt'],\n",
       "      dtype='object')"
      ]
     },
     "execution_count": 7,
     "metadata": {},
     "output_type": "execute_result"
    }
   ],
   "source": [
    "bglr.columns"
   ]
  },
  {
   "cell_type": "code",
   "execution_count": 64,
   "metadata": {},
   "outputs": [],
   "source": [
    "bglr.drop('sourceid', axis=1, inplace=True)\n",
    "bglr.drop('dstid', axis=1, inplace=True)\n",
    "bglr.drop('mean_tt', axis=1, inplace=True)"
   ]
  },
  {
   "cell_type": "code",
   "execution_count": 38,
   "metadata": {},
   "outputs": [
    {
     "data": {
      "text/plain": [
       "Longitude                                   810901\n",
       "Latitude                                    810901\n",
       "Long2                                            0\n",
       "Lat2                                        749563\n",
       "DISTANCE2                                        0\n",
       "tt_in_mins                                       0\n",
       "standard_deviation_travel_time                   0\n",
       "geometric_mean_travel_time                       0\n",
       "geometric_standard_deviation_travel_time         0\n",
       "stand_tt                                         0\n",
       "geom_tt                                          0\n",
       "st_geo_tt                                        0\n",
       "dtype: int64"
      ]
     },
     "execution_count": 38,
     "metadata": {},
     "output_type": "execute_result"
    }
   ],
   "source": [
    "bglr.isna().sum()"
   ]
  },
  {
   "cell_type": "code",
   "execution_count": 65,
   "metadata": {},
   "outputs": [],
   "source": [
    "bglr.drop('Longitude', axis=1, inplace=True)\n",
    "bglr.drop('Latitude', axis=1, inplace=True)\n",
    "bglr.drop('Long2', axis=1, inplace=True)\n",
    "bglr.drop('Lat2', axis=1, inplace=True)"
   ]
  },
  {
   "cell_type": "code",
   "execution_count": 40,
   "metadata": {},
   "outputs": [
    {
     "data": {
      "text/plain": [
       "DISTANCE2                                   0\n",
       "tt_in_mins                                  0\n",
       "standard_deviation_travel_time              0\n",
       "geometric_mean_travel_time                  0\n",
       "geometric_standard_deviation_travel_time    0\n",
       "stand_tt                                    0\n",
       "geom_tt                                     0\n",
       "st_geo_tt                                   0\n",
       "dtype: int64"
      ]
     },
     "execution_count": 40,
     "metadata": {},
     "output_type": "execute_result"
    }
   ],
   "source": [
    "bglr.isna().sum()"
   ]
  },
  {
   "cell_type": "code",
   "execution_count": 29,
   "metadata": {
    "colab": {
     "base_uri": "https://localhost:8080/",
     "height": 265
    },
    "colab_type": "code",
    "id": "Trrx4N8WG8VM",
    "outputId": "7753495c-2c93-4ec7-97ba-c891838e325f"
   },
   "outputs": [
    {
     "data": {
      "text/plain": [
       "<bound method DataFrame.info of           DISTANCE2  tt_in_mins  standard_deviation_travel_time  \\\n",
       "0          1.126059   33.703667                          665.53   \n",
       "1          1.089601   52.653500                          680.03   \n",
       "2          0.639010   65.722333                          581.21   \n",
       "3          1.548969   53.227333                          615.47   \n",
       "4         12.928686   13.350833                          324.42   \n",
       "...             ...         ...                             ...   \n",
       "851958  5360.754510   75.538833                          652.37   \n",
       "851959  5359.285293   22.833333                          693.47   \n",
       "851960  5359.784850   46.552500                          558.44   \n",
       "851961  5359.811147   45.361000                          474.52   \n",
       "851962  5360.321421   49.097333                          841.71   \n",
       "\n",
       "        geometric_mean_travel_time  geometric_standard_deviation_travel_time  \\\n",
       "0                          1944.10                                      1.31   \n",
       "1                          3095.19                                      1.22   \n",
       "2                          3900.20                                      1.16   \n",
       "3                          3143.88                                      1.19   \n",
       "4                           766.42                                      1.31   \n",
       "...                            ...                                       ...   \n",
       "851958                     4488.16                                      1.15   \n",
       "851959                     1204.12                                      1.66   \n",
       "851960                     2743.98                                      1.20   \n",
       "851961                     2684.04                                      1.18   \n",
       "851962                     2820.82                                      1.35   \n",
       "\n",
       "         stand_tt    geom_tt  st_geo_tt  \n",
       "0       11.092167  32.401667   0.021833  \n",
       "1       11.333833  51.586500   0.020333  \n",
       "2        9.686833  65.003333   0.019333  \n",
       "3       10.257833  52.398000   0.019833  \n",
       "4        5.407000  12.773667   0.021833  \n",
       "...           ...        ...        ...  \n",
       "851958  10.872833  74.802667   0.019167  \n",
       "851959  11.557833  20.068667   0.027667  \n",
       "851960   9.307333  45.733000   0.020000  \n",
       "851961   7.908667  44.734000   0.019667  \n",
       "851962  14.028500  47.013667   0.022500  \n",
       "\n",
       "[851963 rows x 8 columns]>"
      ]
     },
     "execution_count": 29,
     "metadata": {},
     "output_type": "execute_result"
    }
   ],
   "source": [
    "bglr.info"
   ]
  },
  {
   "cell_type": "code",
   "execution_count": 66,
   "metadata": {
    "colab": {
     "base_uri": "https://localhost:8080/",
     "height": 307
    },
    "colab_type": "code",
    "id": "ejxVM4gWHBwA",
    "outputId": "905dbb2f-b7e3-4b81-ee00-bd13cd0cccb6"
   },
   "outputs": [
    {
     "data": {
      "text/html": [
       "<div>\n",
       "<style scoped>\n",
       "    .dataframe tbody tr th:only-of-type {\n",
       "        vertical-align: middle;\n",
       "    }\n",
       "\n",
       "    .dataframe tbody tr th {\n",
       "        vertical-align: top;\n",
       "    }\n",
       "\n",
       "    .dataframe thead th {\n",
       "        text-align: right;\n",
       "    }\n",
       "</style>\n",
       "<table border=\"1\" class=\"dataframe\">\n",
       "  <thead>\n",
       "    <tr style=\"text-align: right;\">\n",
       "      <th></th>\n",
       "      <th>DISTANCE2</th>\n",
       "      <th>tt_in_mins</th>\n",
       "      <th>standard_deviation_travel_time</th>\n",
       "      <th>geometric_mean_travel_time</th>\n",
       "      <th>geometric_standard_deviation_travel_time</th>\n",
       "      <th>stand_tt</th>\n",
       "      <th>geom_tt</th>\n",
       "      <th>st_geo_tt</th>\n",
       "    </tr>\n",
       "  </thead>\n",
       "  <tbody>\n",
       "    <tr>\n",
       "      <th>count</th>\n",
       "      <td>851963.000000</td>\n",
       "      <td>851963.000000</td>\n",
       "      <td>851963.000000</td>\n",
       "      <td>851963.00000</td>\n",
       "      <td>851963.000000</td>\n",
       "      <td>851963.000000</td>\n",
       "      <td>851963.000000</td>\n",
       "      <td>851963.000000</td>\n",
       "    </tr>\n",
       "    <tr>\n",
       "      <th>mean</th>\n",
       "      <td>5104.576387</td>\n",
       "      <td>35.798348</td>\n",
       "      <td>585.793286</td>\n",
       "      <td>2068.84869</td>\n",
       "      <td>1.358579</td>\n",
       "      <td>9.763221</td>\n",
       "      <td>34.480811</td>\n",
       "      <td>0.022643</td>\n",
       "    </tr>\n",
       "    <tr>\n",
       "      <th>std</th>\n",
       "      <td>1146.361966</td>\n",
       "      <td>19.335571</td>\n",
       "      <td>298.293978</td>\n",
       "      <td>1136.22340</td>\n",
       "      <td>0.267524</td>\n",
       "      <td>4.971566</td>\n",
       "      <td>18.937057</td>\n",
       "      <td>0.004459</td>\n",
       "    </tr>\n",
       "    <tr>\n",
       "      <th>min</th>\n",
       "      <td>0.000000</td>\n",
       "      <td>0.471333</td>\n",
       "      <td>25.020000</td>\n",
       "      <td>11.61000</td>\n",
       "      <td>1.010000</td>\n",
       "      <td>0.417000</td>\n",
       "      <td>0.193500</td>\n",
       "      <td>0.016833</td>\n",
       "    </tr>\n",
       "    <tr>\n",
       "      <th>25%</th>\n",
       "      <td>5359.553316</td>\n",
       "      <td>21.158083</td>\n",
       "      <td>384.680000</td>\n",
       "      <td>1210.55000</td>\n",
       "      <td>1.240000</td>\n",
       "      <td>6.411333</td>\n",
       "      <td>20.175833</td>\n",
       "      <td>0.020667</td>\n",
       "    </tr>\n",
       "    <tr>\n",
       "      <th>50%</th>\n",
       "      <td>5360.394633</td>\n",
       "      <td>32.885333</td>\n",
       "      <td>521.990000</td>\n",
       "      <td>1904.17000</td>\n",
       "      <td>1.300000</td>\n",
       "      <td>8.699833</td>\n",
       "      <td>31.736167</td>\n",
       "      <td>0.021667</td>\n",
       "    </tr>\n",
       "    <tr>\n",
       "      <th>75%</th>\n",
       "      <td>5361.055960</td>\n",
       "      <td>48.118500</td>\n",
       "      <td>712.840000</td>\n",
       "      <td>2800.33500</td>\n",
       "      <td>1.380000</td>\n",
       "      <td>11.880667</td>\n",
       "      <td>46.672250</td>\n",
       "      <td>0.023000</td>\n",
       "    </tr>\n",
       "    <tr>\n",
       "      <th>max</th>\n",
       "      <td>5394.718302</td>\n",
       "      <td>196.181500</td>\n",
       "      <td>5253.700000</td>\n",
       "      <td>11717.80000</td>\n",
       "      <td>18.130000</td>\n",
       "      <td>87.561667</td>\n",
       "      <td>195.296667</td>\n",
       "      <td>0.302167</td>\n",
       "    </tr>\n",
       "  </tbody>\n",
       "</table>\n",
       "</div>"
      ],
      "text/plain": [
       "           DISTANCE2     tt_in_mins  standard_deviation_travel_time  \\\n",
       "count  851963.000000  851963.000000                   851963.000000   \n",
       "mean     5104.576387      35.798348                      585.793286   \n",
       "std      1146.361966      19.335571                      298.293978   \n",
       "min         0.000000       0.471333                       25.020000   \n",
       "25%      5359.553316      21.158083                      384.680000   \n",
       "50%      5360.394633      32.885333                      521.990000   \n",
       "75%      5361.055960      48.118500                      712.840000   \n",
       "max      5394.718302     196.181500                     5253.700000   \n",
       "\n",
       "       geometric_mean_travel_time  geometric_standard_deviation_travel_time  \\\n",
       "count                851963.00000                             851963.000000   \n",
       "mean                   2068.84869                                  1.358579   \n",
       "std                    1136.22340                                  0.267524   \n",
       "min                      11.61000                                  1.010000   \n",
       "25%                    1210.55000                                  1.240000   \n",
       "50%                    1904.17000                                  1.300000   \n",
       "75%                    2800.33500                                  1.380000   \n",
       "max                   11717.80000                                 18.130000   \n",
       "\n",
       "            stand_tt        geom_tt      st_geo_tt  \n",
       "count  851963.000000  851963.000000  851963.000000  \n",
       "mean        9.763221      34.480811       0.022643  \n",
       "std         4.971566      18.937057       0.004459  \n",
       "min         0.417000       0.193500       0.016833  \n",
       "25%         6.411333      20.175833       0.020667  \n",
       "50%         8.699833      31.736167       0.021667  \n",
       "75%        11.880667      46.672250       0.023000  \n",
       "max        87.561667     195.296667       0.302167  "
      ]
     },
     "execution_count": 66,
     "metadata": {},
     "output_type": "execute_result"
    }
   ],
   "source": [
    "bglr.describe()"
   ]
  },
  {
   "cell_type": "code",
   "execution_count": 31,
   "metadata": {},
   "outputs": [
    {
     "data": {
      "text/plain": [
       "DISTANCE2                                   float64\n",
       "tt_in_mins                                  float64\n",
       "standard_deviation_travel_time              float64\n",
       "geometric_mean_travel_time                  float64\n",
       "geometric_standard_deviation_travel_time    float64\n",
       "stand_tt                                    float64\n",
       "geom_tt                                     float64\n",
       "st_geo_tt                                   float64\n",
       "dtype: object"
      ]
     },
     "execution_count": 31,
     "metadata": {},
     "output_type": "execute_result"
    }
   ],
   "source": [
    "bglr.dtypes"
   ]
  },
  {
   "cell_type": "code",
   "execution_count": 67,
   "metadata": {
    "colab": {
     "base_uri": "https://localhost:8080/",
     "height": 322
    },
    "colab_type": "code",
    "id": "h1lG6HAfHEj2",
    "outputId": "c65403ba-1cb3-44a7-f7ce-d41a0e024513"
   },
   "outputs": [
    {
     "data": {
      "text/html": [
       "<style  type=\"text/css\" >\n",
       "    #T_b96ed5e8_d1ba_11ea_bf1a_f977339f5a9arow0_col0 {\n",
       "            background-color:  #b40426;\n",
       "            color:  #f1f1f1;\n",
       "        }    #T_b96ed5e8_d1ba_11ea_bf1a_f977339f5a9arow0_col1 {\n",
       "            background-color:  #93b5fe;\n",
       "            color:  #000000;\n",
       "        }    #T_b96ed5e8_d1ba_11ea_bf1a_f977339f5a9arow0_col2 {\n",
       "            background-color:  #4358cb;\n",
       "            color:  #f1f1f1;\n",
       "        }    #T_b96ed5e8_d1ba_11ea_bf1a_f977339f5a9arow0_col3 {\n",
       "            background-color:  #98b9ff;\n",
       "            color:  #000000;\n",
       "        }    #T_b96ed5e8_d1ba_11ea_bf1a_f977339f5a9arow0_col4 {\n",
       "            background-color:  #98b9ff;\n",
       "            color:  #000000;\n",
       "        }    #T_b96ed5e8_d1ba_11ea_bf1a_f977339f5a9arow0_col5 {\n",
       "            background-color:  #4358cb;\n",
       "            color:  #f1f1f1;\n",
       "        }    #T_b96ed5e8_d1ba_11ea_bf1a_f977339f5a9arow0_col6 {\n",
       "            background-color:  #98b9ff;\n",
       "            color:  #000000;\n",
       "        }    #T_b96ed5e8_d1ba_11ea_bf1a_f977339f5a9arow0_col7 {\n",
       "            background-color:  #98b9ff;\n",
       "            color:  #000000;\n",
       "        }    #T_b96ed5e8_d1ba_11ea_bf1a_f977339f5a9arow1_col0 {\n",
       "            background-color:  #3b4cc0;\n",
       "            color:  #f1f1f1;\n",
       "        }    #T_b96ed5e8_d1ba_11ea_bf1a_f977339f5a9arow1_col1 {\n",
       "            background-color:  #b40426;\n",
       "            color:  #f1f1f1;\n",
       "        }    #T_b96ed5e8_d1ba_11ea_bf1a_f977339f5a9arow1_col2 {\n",
       "            background-color:  #f39475;\n",
       "            color:  #000000;\n",
       "        }    #T_b96ed5e8_d1ba_11ea_bf1a_f977339f5a9arow1_col3 {\n",
       "            background-color:  #b40426;\n",
       "            color:  #f1f1f1;\n",
       "        }    #T_b96ed5e8_d1ba_11ea_bf1a_f977339f5a9arow1_col4 {\n",
       "            background-color:  #4055c8;\n",
       "            color:  #f1f1f1;\n",
       "        }    #T_b96ed5e8_d1ba_11ea_bf1a_f977339f5a9arow1_col5 {\n",
       "            background-color:  #f39475;\n",
       "            color:  #000000;\n",
       "        }    #T_b96ed5e8_d1ba_11ea_bf1a_f977339f5a9arow1_col6 {\n",
       "            background-color:  #b40426;\n",
       "            color:  #f1f1f1;\n",
       "        }    #T_b96ed5e8_d1ba_11ea_bf1a_f977339f5a9arow1_col7 {\n",
       "            background-color:  #4055c8;\n",
       "            color:  #f1f1f1;\n",
       "        }    #T_b96ed5e8_d1ba_11ea_bf1a_f977339f5a9arow2_col0 {\n",
       "            background-color:  #3b4cc0;\n",
       "            color:  #f1f1f1;\n",
       "        }    #T_b96ed5e8_d1ba_11ea_bf1a_f977339f5a9arow2_col1 {\n",
       "            background-color:  #e97a5f;\n",
       "            color:  #000000;\n",
       "        }    #T_b96ed5e8_d1ba_11ea_bf1a_f977339f5a9arow2_col2 {\n",
       "            background-color:  #b40426;\n",
       "            color:  #f1f1f1;\n",
       "        }    #T_b96ed5e8_d1ba_11ea_bf1a_f977339f5a9arow2_col3 {\n",
       "            background-color:  #ed8366;\n",
       "            color:  #000000;\n",
       "        }    #T_b96ed5e8_d1ba_11ea_bf1a_f977339f5a9arow2_col4 {\n",
       "            background-color:  #90b2fe;\n",
       "            color:  #000000;\n",
       "        }    #T_b96ed5e8_d1ba_11ea_bf1a_f977339f5a9arow2_col5 {\n",
       "            background-color:  #b40426;\n",
       "            color:  #f1f1f1;\n",
       "        }    #T_b96ed5e8_d1ba_11ea_bf1a_f977339f5a9arow2_col6 {\n",
       "            background-color:  #ed8366;\n",
       "            color:  #000000;\n",
       "        }    #T_b96ed5e8_d1ba_11ea_bf1a_f977339f5a9arow2_col7 {\n",
       "            background-color:  #90b2fe;\n",
       "            color:  #000000;\n",
       "        }    #T_b96ed5e8_d1ba_11ea_bf1a_f977339f5a9arow3_col0 {\n",
       "            background-color:  #3b4cc0;\n",
       "            color:  #f1f1f1;\n",
       "        }    #T_b96ed5e8_d1ba_11ea_bf1a_f977339f5a9arow3_col1 {\n",
       "            background-color:  #b40426;\n",
       "            color:  #f1f1f1;\n",
       "        }    #T_b96ed5e8_d1ba_11ea_bf1a_f977339f5a9arow3_col2 {\n",
       "            background-color:  #f5a081;\n",
       "            color:  #000000;\n",
       "        }    #T_b96ed5e8_d1ba_11ea_bf1a_f977339f5a9arow3_col3 {\n",
       "            background-color:  #b40426;\n",
       "            color:  #f1f1f1;\n",
       "        }    #T_b96ed5e8_d1ba_11ea_bf1a_f977339f5a9arow3_col4 {\n",
       "            background-color:  #3b4cc0;\n",
       "            color:  #f1f1f1;\n",
       "        }    #T_b96ed5e8_d1ba_11ea_bf1a_f977339f5a9arow3_col5 {\n",
       "            background-color:  #f5a081;\n",
       "            color:  #000000;\n",
       "        }    #T_b96ed5e8_d1ba_11ea_bf1a_f977339f5a9arow3_col6 {\n",
       "            background-color:  #b40426;\n",
       "            color:  #f1f1f1;\n",
       "        }    #T_b96ed5e8_d1ba_11ea_bf1a_f977339f5a9arow3_col7 {\n",
       "            background-color:  #3b4cc0;\n",
       "            color:  #f1f1f1;\n",
       "        }    #T_b96ed5e8_d1ba_11ea_bf1a_f977339f5a9arow4_col0 {\n",
       "            background-color:  #3b4cc0;\n",
       "            color:  #f1f1f1;\n",
       "        }    #T_b96ed5e8_d1ba_11ea_bf1a_f977339f5a9arow4_col1 {\n",
       "            background-color:  #3b4cc0;\n",
       "            color:  #f1f1f1;\n",
       "        }    #T_b96ed5e8_d1ba_11ea_bf1a_f977339f5a9arow4_col2 {\n",
       "            background-color:  #3b4cc0;\n",
       "            color:  #f1f1f1;\n",
       "        }    #T_b96ed5e8_d1ba_11ea_bf1a_f977339f5a9arow4_col3 {\n",
       "            background-color:  #3b4cc0;\n",
       "            color:  #f1f1f1;\n",
       "        }    #T_b96ed5e8_d1ba_11ea_bf1a_f977339f5a9arow4_col4 {\n",
       "            background-color:  #b40426;\n",
       "            color:  #f1f1f1;\n",
       "        }    #T_b96ed5e8_d1ba_11ea_bf1a_f977339f5a9arow4_col5 {\n",
       "            background-color:  #3b4cc0;\n",
       "            color:  #f1f1f1;\n",
       "        }    #T_b96ed5e8_d1ba_11ea_bf1a_f977339f5a9arow4_col6 {\n",
       "            background-color:  #3b4cc0;\n",
       "            color:  #f1f1f1;\n",
       "        }    #T_b96ed5e8_d1ba_11ea_bf1a_f977339f5a9arow4_col7 {\n",
       "            background-color:  #b40426;\n",
       "            color:  #f1f1f1;\n",
       "        }    #T_b96ed5e8_d1ba_11ea_bf1a_f977339f5a9arow5_col0 {\n",
       "            background-color:  #3b4cc0;\n",
       "            color:  #f1f1f1;\n",
       "        }    #T_b96ed5e8_d1ba_11ea_bf1a_f977339f5a9arow5_col1 {\n",
       "            background-color:  #e97a5f;\n",
       "            color:  #000000;\n",
       "        }    #T_b96ed5e8_d1ba_11ea_bf1a_f977339f5a9arow5_col2 {\n",
       "            background-color:  #b40426;\n",
       "            color:  #f1f1f1;\n",
       "        }    #T_b96ed5e8_d1ba_11ea_bf1a_f977339f5a9arow5_col3 {\n",
       "            background-color:  #ed8366;\n",
       "            color:  #000000;\n",
       "        }    #T_b96ed5e8_d1ba_11ea_bf1a_f977339f5a9arow5_col4 {\n",
       "            background-color:  #90b2fe;\n",
       "            color:  #000000;\n",
       "        }    #T_b96ed5e8_d1ba_11ea_bf1a_f977339f5a9arow5_col5 {\n",
       "            background-color:  #b40426;\n",
       "            color:  #f1f1f1;\n",
       "        }    #T_b96ed5e8_d1ba_11ea_bf1a_f977339f5a9arow5_col6 {\n",
       "            background-color:  #ed8366;\n",
       "            color:  #000000;\n",
       "        }    #T_b96ed5e8_d1ba_11ea_bf1a_f977339f5a9arow5_col7 {\n",
       "            background-color:  #90b2fe;\n",
       "            color:  #000000;\n",
       "        }    #T_b96ed5e8_d1ba_11ea_bf1a_f977339f5a9arow6_col0 {\n",
       "            background-color:  #3b4cc0;\n",
       "            color:  #f1f1f1;\n",
       "        }    #T_b96ed5e8_d1ba_11ea_bf1a_f977339f5a9arow6_col1 {\n",
       "            background-color:  #b40426;\n",
       "            color:  #f1f1f1;\n",
       "        }    #T_b96ed5e8_d1ba_11ea_bf1a_f977339f5a9arow6_col2 {\n",
       "            background-color:  #f5a081;\n",
       "            color:  #000000;\n",
       "        }    #T_b96ed5e8_d1ba_11ea_bf1a_f977339f5a9arow6_col3 {\n",
       "            background-color:  #b40426;\n",
       "            color:  #f1f1f1;\n",
       "        }    #T_b96ed5e8_d1ba_11ea_bf1a_f977339f5a9arow6_col4 {\n",
       "            background-color:  #3b4cc0;\n",
       "            color:  #f1f1f1;\n",
       "        }    #T_b96ed5e8_d1ba_11ea_bf1a_f977339f5a9arow6_col5 {\n",
       "            background-color:  #f5a081;\n",
       "            color:  #000000;\n",
       "        }    #T_b96ed5e8_d1ba_11ea_bf1a_f977339f5a9arow6_col6 {\n",
       "            background-color:  #b40426;\n",
       "            color:  #f1f1f1;\n",
       "        }    #T_b96ed5e8_d1ba_11ea_bf1a_f977339f5a9arow6_col7 {\n",
       "            background-color:  #3b4cc0;\n",
       "            color:  #f1f1f1;\n",
       "        }    #T_b96ed5e8_d1ba_11ea_bf1a_f977339f5a9arow7_col0 {\n",
       "            background-color:  #3b4cc0;\n",
       "            color:  #f1f1f1;\n",
       "        }    #T_b96ed5e8_d1ba_11ea_bf1a_f977339f5a9arow7_col1 {\n",
       "            background-color:  #3b4cc0;\n",
       "            color:  #f1f1f1;\n",
       "        }    #T_b96ed5e8_d1ba_11ea_bf1a_f977339f5a9arow7_col2 {\n",
       "            background-color:  #3b4cc0;\n",
       "            color:  #f1f1f1;\n",
       "        }    #T_b96ed5e8_d1ba_11ea_bf1a_f977339f5a9arow7_col3 {\n",
       "            background-color:  #3b4cc0;\n",
       "            color:  #f1f1f1;\n",
       "        }    #T_b96ed5e8_d1ba_11ea_bf1a_f977339f5a9arow7_col4 {\n",
       "            background-color:  #b40426;\n",
       "            color:  #f1f1f1;\n",
       "        }    #T_b96ed5e8_d1ba_11ea_bf1a_f977339f5a9arow7_col5 {\n",
       "            background-color:  #3b4cc0;\n",
       "            color:  #f1f1f1;\n",
       "        }    #T_b96ed5e8_d1ba_11ea_bf1a_f977339f5a9arow7_col6 {\n",
       "            background-color:  #3b4cc0;\n",
       "            color:  #f1f1f1;\n",
       "        }    #T_b96ed5e8_d1ba_11ea_bf1a_f977339f5a9arow7_col7 {\n",
       "            background-color:  #b40426;\n",
       "            color:  #f1f1f1;\n",
       "        }</style><table id=\"T_b96ed5e8_d1ba_11ea_bf1a_f977339f5a9a\" ><thead>    <tr>        <th class=\"blank level0\" ></th>        <th class=\"col_heading level0 col0\" >DISTANCE2</th>        <th class=\"col_heading level0 col1\" >tt_in_mins</th>        <th class=\"col_heading level0 col2\" >standard_deviation_travel_time</th>        <th class=\"col_heading level0 col3\" >geometric_mean_travel_time</th>        <th class=\"col_heading level0 col4\" >geometric_standard_deviation_travel_time</th>        <th class=\"col_heading level0 col5\" >stand_tt</th>        <th class=\"col_heading level0 col6\" >geom_tt</th>        <th class=\"col_heading level0 col7\" >st_geo_tt</th>    </tr></thead><tbody>\n",
       "                <tr>\n",
       "                        <th id=\"T_b96ed5e8_d1ba_11ea_bf1a_f977339f5a9alevel0_row0\" class=\"row_heading level0 row0\" >DISTANCE2</th>\n",
       "                        <td id=\"T_b96ed5e8_d1ba_11ea_bf1a_f977339f5a9arow0_col0\" class=\"data row0 col0\" >1.00</td>\n",
       "                        <td id=\"T_b96ed5e8_d1ba_11ea_bf1a_f977339f5a9arow0_col1\" class=\"data row0 col1\" >-0.00</td>\n",
       "                        <td id=\"T_b96ed5e8_d1ba_11ea_bf1a_f977339f5a9arow0_col2\" class=\"data row0 col2\" >-0.00</td>\n",
       "                        <td id=\"T_b96ed5e8_d1ba_11ea_bf1a_f977339f5a9arow0_col3\" class=\"data row0 col3\" >-0.00</td>\n",
       "                        <td id=\"T_b96ed5e8_d1ba_11ea_bf1a_f977339f5a9arow0_col4\" class=\"data row0 col4\" >0.00</td>\n",
       "                        <td id=\"T_b96ed5e8_d1ba_11ea_bf1a_f977339f5a9arow0_col5\" class=\"data row0 col5\" >-0.00</td>\n",
       "                        <td id=\"T_b96ed5e8_d1ba_11ea_bf1a_f977339f5a9arow0_col6\" class=\"data row0 col6\" >-0.00</td>\n",
       "                        <td id=\"T_b96ed5e8_d1ba_11ea_bf1a_f977339f5a9arow0_col7\" class=\"data row0 col7\" >0.00</td>\n",
       "            </tr>\n",
       "            <tr>\n",
       "                        <th id=\"T_b96ed5e8_d1ba_11ea_bf1a_f977339f5a9alevel0_row1\" class=\"row_heading level0 row1\" >tt_in_mins</th>\n",
       "                        <td id=\"T_b96ed5e8_d1ba_11ea_bf1a_f977339f5a9arow1_col0\" class=\"data row1 col0\" >-0.00</td>\n",
       "                        <td id=\"T_b96ed5e8_d1ba_11ea_bf1a_f977339f5a9arow1_col1\" class=\"data row1 col1\" >1.00</td>\n",
       "                        <td id=\"T_b96ed5e8_d1ba_11ea_bf1a_f977339f5a9arow1_col2\" class=\"data row1 col2\" >0.76</td>\n",
       "                        <td id=\"T_b96ed5e8_d1ba_11ea_bf1a_f977339f5a9arow1_col3\" class=\"data row1 col3\" >1.00</td>\n",
       "                        <td id=\"T_b96ed5e8_d1ba_11ea_bf1a_f977339f5a9arow1_col4\" class=\"data row1 col4\" >-0.36</td>\n",
       "                        <td id=\"T_b96ed5e8_d1ba_11ea_bf1a_f977339f5a9arow1_col5\" class=\"data row1 col5\" >0.76</td>\n",
       "                        <td id=\"T_b96ed5e8_d1ba_11ea_bf1a_f977339f5a9arow1_col6\" class=\"data row1 col6\" >1.00</td>\n",
       "                        <td id=\"T_b96ed5e8_d1ba_11ea_bf1a_f977339f5a9arow1_col7\" class=\"data row1 col7\" >-0.36</td>\n",
       "            </tr>\n",
       "            <tr>\n",
       "                        <th id=\"T_b96ed5e8_d1ba_11ea_bf1a_f977339f5a9alevel0_row2\" class=\"row_heading level0 row2\" >standard_deviation_travel_time</th>\n",
       "                        <td id=\"T_b96ed5e8_d1ba_11ea_bf1a_f977339f5a9arow2_col0\" class=\"data row2 col0\" >-0.00</td>\n",
       "                        <td id=\"T_b96ed5e8_d1ba_11ea_bf1a_f977339f5a9arow2_col1\" class=\"data row2 col1\" >0.76</td>\n",
       "                        <td id=\"T_b96ed5e8_d1ba_11ea_bf1a_f977339f5a9arow2_col2\" class=\"data row2 col2\" >1.00</td>\n",
       "                        <td id=\"T_b96ed5e8_d1ba_11ea_bf1a_f977339f5a9arow2_col3\" class=\"data row2 col3\" >0.72</td>\n",
       "                        <td id=\"T_b96ed5e8_d1ba_11ea_bf1a_f977339f5a9arow2_col4\" class=\"data row2 col4\" >-0.03</td>\n",
       "                        <td id=\"T_b96ed5e8_d1ba_11ea_bf1a_f977339f5a9arow2_col5\" class=\"data row2 col5\" >1.00</td>\n",
       "                        <td id=\"T_b96ed5e8_d1ba_11ea_bf1a_f977339f5a9arow2_col6\" class=\"data row2 col6\" >0.72</td>\n",
       "                        <td id=\"T_b96ed5e8_d1ba_11ea_bf1a_f977339f5a9arow2_col7\" class=\"data row2 col7\" >-0.03</td>\n",
       "            </tr>\n",
       "            <tr>\n",
       "                        <th id=\"T_b96ed5e8_d1ba_11ea_bf1a_f977339f5a9alevel0_row3\" class=\"row_heading level0 row3\" >geometric_mean_travel_time</th>\n",
       "                        <td id=\"T_b96ed5e8_d1ba_11ea_bf1a_f977339f5a9arow3_col0\" class=\"data row3 col0\" >-0.00</td>\n",
       "                        <td id=\"T_b96ed5e8_d1ba_11ea_bf1a_f977339f5a9arow3_col1\" class=\"data row3 col1\" >1.00</td>\n",
       "                        <td id=\"T_b96ed5e8_d1ba_11ea_bf1a_f977339f5a9arow3_col2\" class=\"data row3 col2\" >0.72</td>\n",
       "                        <td id=\"T_b96ed5e8_d1ba_11ea_bf1a_f977339f5a9arow3_col3\" class=\"data row3 col3\" >1.00</td>\n",
       "                        <td id=\"T_b96ed5e8_d1ba_11ea_bf1a_f977339f5a9arow3_col4\" class=\"data row3 col4\" >-0.39</td>\n",
       "                        <td id=\"T_b96ed5e8_d1ba_11ea_bf1a_f977339f5a9arow3_col5\" class=\"data row3 col5\" >0.72</td>\n",
       "                        <td id=\"T_b96ed5e8_d1ba_11ea_bf1a_f977339f5a9arow3_col6\" class=\"data row3 col6\" >1.00</td>\n",
       "                        <td id=\"T_b96ed5e8_d1ba_11ea_bf1a_f977339f5a9arow3_col7\" class=\"data row3 col7\" >-0.39</td>\n",
       "            </tr>\n",
       "            <tr>\n",
       "                        <th id=\"T_b96ed5e8_d1ba_11ea_bf1a_f977339f5a9alevel0_row4\" class=\"row_heading level0 row4\" >geometric_standard_deviation_travel_time</th>\n",
       "                        <td id=\"T_b96ed5e8_d1ba_11ea_bf1a_f977339f5a9arow4_col0\" class=\"data row4 col0\" >0.00</td>\n",
       "                        <td id=\"T_b96ed5e8_d1ba_11ea_bf1a_f977339f5a9arow4_col1\" class=\"data row4 col1\" >-0.36</td>\n",
       "                        <td id=\"T_b96ed5e8_d1ba_11ea_bf1a_f977339f5a9arow4_col2\" class=\"data row4 col2\" >-0.03</td>\n",
       "                        <td id=\"T_b96ed5e8_d1ba_11ea_bf1a_f977339f5a9arow4_col3\" class=\"data row4 col3\" >-0.39</td>\n",
       "                        <td id=\"T_b96ed5e8_d1ba_11ea_bf1a_f977339f5a9arow4_col4\" class=\"data row4 col4\" >1.00</td>\n",
       "                        <td id=\"T_b96ed5e8_d1ba_11ea_bf1a_f977339f5a9arow4_col5\" class=\"data row4 col5\" >-0.03</td>\n",
       "                        <td id=\"T_b96ed5e8_d1ba_11ea_bf1a_f977339f5a9arow4_col6\" class=\"data row4 col6\" >-0.39</td>\n",
       "                        <td id=\"T_b96ed5e8_d1ba_11ea_bf1a_f977339f5a9arow4_col7\" class=\"data row4 col7\" >1.00</td>\n",
       "            </tr>\n",
       "            <tr>\n",
       "                        <th id=\"T_b96ed5e8_d1ba_11ea_bf1a_f977339f5a9alevel0_row5\" class=\"row_heading level0 row5\" >stand_tt</th>\n",
       "                        <td id=\"T_b96ed5e8_d1ba_11ea_bf1a_f977339f5a9arow5_col0\" class=\"data row5 col0\" >-0.00</td>\n",
       "                        <td id=\"T_b96ed5e8_d1ba_11ea_bf1a_f977339f5a9arow5_col1\" class=\"data row5 col1\" >0.76</td>\n",
       "                        <td id=\"T_b96ed5e8_d1ba_11ea_bf1a_f977339f5a9arow5_col2\" class=\"data row5 col2\" >1.00</td>\n",
       "                        <td id=\"T_b96ed5e8_d1ba_11ea_bf1a_f977339f5a9arow5_col3\" class=\"data row5 col3\" >0.72</td>\n",
       "                        <td id=\"T_b96ed5e8_d1ba_11ea_bf1a_f977339f5a9arow5_col4\" class=\"data row5 col4\" >-0.03</td>\n",
       "                        <td id=\"T_b96ed5e8_d1ba_11ea_bf1a_f977339f5a9arow5_col5\" class=\"data row5 col5\" >1.00</td>\n",
       "                        <td id=\"T_b96ed5e8_d1ba_11ea_bf1a_f977339f5a9arow5_col6\" class=\"data row5 col6\" >0.72</td>\n",
       "                        <td id=\"T_b96ed5e8_d1ba_11ea_bf1a_f977339f5a9arow5_col7\" class=\"data row5 col7\" >-0.03</td>\n",
       "            </tr>\n",
       "            <tr>\n",
       "                        <th id=\"T_b96ed5e8_d1ba_11ea_bf1a_f977339f5a9alevel0_row6\" class=\"row_heading level0 row6\" >geom_tt</th>\n",
       "                        <td id=\"T_b96ed5e8_d1ba_11ea_bf1a_f977339f5a9arow6_col0\" class=\"data row6 col0\" >-0.00</td>\n",
       "                        <td id=\"T_b96ed5e8_d1ba_11ea_bf1a_f977339f5a9arow6_col1\" class=\"data row6 col1\" >1.00</td>\n",
       "                        <td id=\"T_b96ed5e8_d1ba_11ea_bf1a_f977339f5a9arow6_col2\" class=\"data row6 col2\" >0.72</td>\n",
       "                        <td id=\"T_b96ed5e8_d1ba_11ea_bf1a_f977339f5a9arow6_col3\" class=\"data row6 col3\" >1.00</td>\n",
       "                        <td id=\"T_b96ed5e8_d1ba_11ea_bf1a_f977339f5a9arow6_col4\" class=\"data row6 col4\" >-0.39</td>\n",
       "                        <td id=\"T_b96ed5e8_d1ba_11ea_bf1a_f977339f5a9arow6_col5\" class=\"data row6 col5\" >0.72</td>\n",
       "                        <td id=\"T_b96ed5e8_d1ba_11ea_bf1a_f977339f5a9arow6_col6\" class=\"data row6 col6\" >1.00</td>\n",
       "                        <td id=\"T_b96ed5e8_d1ba_11ea_bf1a_f977339f5a9arow6_col7\" class=\"data row6 col7\" >-0.39</td>\n",
       "            </tr>\n",
       "            <tr>\n",
       "                        <th id=\"T_b96ed5e8_d1ba_11ea_bf1a_f977339f5a9alevel0_row7\" class=\"row_heading level0 row7\" >st_geo_tt</th>\n",
       "                        <td id=\"T_b96ed5e8_d1ba_11ea_bf1a_f977339f5a9arow7_col0\" class=\"data row7 col0\" >0.00</td>\n",
       "                        <td id=\"T_b96ed5e8_d1ba_11ea_bf1a_f977339f5a9arow7_col1\" class=\"data row7 col1\" >-0.36</td>\n",
       "                        <td id=\"T_b96ed5e8_d1ba_11ea_bf1a_f977339f5a9arow7_col2\" class=\"data row7 col2\" >-0.03</td>\n",
       "                        <td id=\"T_b96ed5e8_d1ba_11ea_bf1a_f977339f5a9arow7_col3\" class=\"data row7 col3\" >-0.39</td>\n",
       "                        <td id=\"T_b96ed5e8_d1ba_11ea_bf1a_f977339f5a9arow7_col4\" class=\"data row7 col4\" >1.00</td>\n",
       "                        <td id=\"T_b96ed5e8_d1ba_11ea_bf1a_f977339f5a9arow7_col5\" class=\"data row7 col5\" >-0.03</td>\n",
       "                        <td id=\"T_b96ed5e8_d1ba_11ea_bf1a_f977339f5a9arow7_col6\" class=\"data row7 col6\" >-0.39</td>\n",
       "                        <td id=\"T_b96ed5e8_d1ba_11ea_bf1a_f977339f5a9arow7_col7\" class=\"data row7 col7\" >1.00</td>\n",
       "            </tr>\n",
       "    </tbody></table>"
      ],
      "text/plain": [
       "<pandas.io.formats.style.Styler at 0x7f5c60000410>"
      ]
     },
     "execution_count": 67,
     "metadata": {},
     "output_type": "execute_result"
    }
   ],
   "source": [
    "corr = bglr.corr() #plot with actual values\n",
    "corr.style.background_gradient(cmap='coolwarm').set_precision(2)"
   ]
  },
  {
   "cell_type": "code",
   "execution_count": 94,
   "metadata": {},
   "outputs": [],
   "source": [
    "bglr.drop('geom_tt', axis=1, inplace=True)"
   ]
  },
  {
   "cell_type": "code",
   "execution_count": 41,
   "metadata": {
    "colab": {
     "base_uri": "https://localhost:8080/",
     "height": 34
    },
    "colab_type": "code",
    "id": "utIzutVtH1z8",
    "outputId": "af50d6cc-6666-4f19-814e-a12171b1d594"
   },
   "outputs": [
    {
     "data": {
      "text/plain": [
       "(851963, 8)"
      ]
     },
     "execution_count": 41,
     "metadata": {},
     "output_type": "execute_result"
    }
   ],
   "source": [
    "bglr.shape"
   ]
  },
  {
   "cell_type": "code",
   "execution_count": 42,
   "metadata": {
    "colab": {},
    "colab_type": "code",
    "id": "ciCdyNs7KN9p"
   },
   "outputs": [
    {
     "data": {
      "text/plain": [
       "DISTANCE2                                    41328\n",
       "tt_in_mins                                  370211\n",
       "standard_deviation_travel_time              130280\n",
       "geometric_mean_travel_time                  369884\n",
       "geometric_standard_deviation_travel_time       529\n",
       "stand_tt                                    130280\n",
       "geom_tt                                     369884\n",
       "st_geo_tt                                      529\n",
       "dtype: int64"
      ]
     },
     "execution_count": 42,
     "metadata": {},
     "output_type": "execute_result"
    }
   ],
   "source": [
    "bglr.nunique()"
   ]
  },
  {
   "cell_type": "code",
   "execution_count": 45,
   "metadata": {},
   "outputs": [],
   "source": [
    "#setting figure size\n",
    "from matplotlib.pylab import rcParams\n",
    "rcParams['figure.figsize'] = 20,10\n",
    "\n",
    "#for normalizing data\n",
    "from sklearn.preprocessing import MinMaxScaler\n",
    "scaler = MinMaxScaler(feature_range=(0, 1))"
   ]
  },
  {
   "cell_type": "code",
   "execution_count": 52,
   "metadata": {
    "colab": {},
    "colab_type": "code",
    "id": "_k3tYsgXKOSG"
   },
   "outputs": [
    {
     "data": {
      "text/plain": [
       "<matplotlib.collections.PathCollection at 0x7f5c601119d0>"
      ]
     },
     "execution_count": 52,
     "metadata": {},
     "output_type": "execute_result"
    },
    {
     "data": {
      "image/png": "[encoded data removed]",
      "text/plain": [
       "<Figure size 1440x720 with 1 Axes>"
      ]
     },
     "metadata": {
      "needs_background": "light"
     },
     "output_type": "display_data"
    }
   ],
   "source": [
    "plt.scatter(bglr['tt_in_mins'],bglr['standard_deviation_travel_time'])"
   ]
  },
  {
   "cell_type": "code",
   "execution_count": 53,
   "metadata": {
    "colab": {},
    "colab_type": "code",
    "id": "VG4cjrzUKOgU"
   },
   "outputs": [
    {
     "data": {
      "text/plain": [
       "<matplotlib.collections.PathCollection at 0x7f5c6001f790>"
      ]
     },
     "execution_count": 53,
     "metadata": {},
     "output_type": "execute_result"
    },
    {
     "data": {
      "image/png": "[encoded data removed]",
      "text/plain": [
       "<Figure size 1440x720 with 1 Axes>"
      ]
     },
     "metadata": {
      "needs_background": "light"
     },
     "output_type": "display_data"
    }
   ],
   "source": [
    "plt.scatter(bglr['tt_in_mins'],bglr['DISTANCE2'])"
   ]
  },
  {
   "cell_type": "code",
   "execution_count": 54,
   "metadata": {
    "colab": {},
    "colab_type": "code",
    "id": "bqJxC2R5KOz1"
   },
   "outputs": [],
   "source": [
    "y = bglr['tt_in_mins']"
   ]
  },
  {
   "cell_type": "code",
   "execution_count": 68,
   "metadata": {
    "colab": {},
    "colab_type": "code",
    "id": "Bhws-v5tIfUN"
   },
   "outputs": [],
   "source": [
    "bglr.drop('tt_in_mins', axis=1 ,inplace = True)"
   ]
  },
  {
   "cell_type": "code",
   "execution_count": 95,
   "metadata": {
    "colab": {
     "base_uri": "https://localhost:8080/",
     "height": 406
    },
    "colab_type": "code",
    "id": "ohNS5q0PJlr3",
    "outputId": "8681f922-26d6-4780-e352-dc5f4f9a0f7f"
   },
   "outputs": [],
   "source": [
    "x=bglr"
   ]
  },
  {
   "cell_type": "code",
   "execution_count": 96,
   "metadata": {},
   "outputs": [
    {
     "data": {
      "text/html": [
       "<div>\n",
       "<style scoped>\n",
       "    .dataframe tbody tr th:only-of-type {\n",
       "        vertical-align: middle;\n",
       "    }\n",
       "\n",
       "    .dataframe tbody tr th {\n",
       "        vertical-align: top;\n",
       "    }\n",
       "\n",
       "    .dataframe thead th {\n",
       "        text-align: right;\n",
       "    }\n",
       "</style>\n",
       "<table border=\"1\" class=\"dataframe\">\n",
       "  <thead>\n",
       "    <tr style=\"text-align: right;\">\n",
       "      <th></th>\n",
       "      <th>DISTANCE2</th>\n",
       "      <th>standard_deviation_travel_time</th>\n",
       "      <th>geometric_mean_travel_time</th>\n",
       "      <th>geometric_standard_deviation_travel_time</th>\n",
       "      <th>stand_tt</th>\n",
       "      <th>st_geo_tt</th>\n",
       "    </tr>\n",
       "  </thead>\n",
       "  <tbody>\n",
       "    <tr>\n",
       "      <th>0</th>\n",
       "      <td>1.126059</td>\n",
       "      <td>665.53</td>\n",
       "      <td>1944.10</td>\n",
       "      <td>1.31</td>\n",
       "      <td>11.092167</td>\n",
       "      <td>0.021833</td>\n",
       "    </tr>\n",
       "    <tr>\n",
       "      <th>1</th>\n",
       "      <td>1.089601</td>\n",
       "      <td>680.03</td>\n",
       "      <td>3095.19</td>\n",
       "      <td>1.22</td>\n",
       "      <td>11.333833</td>\n",
       "      <td>0.020333</td>\n",
       "    </tr>\n",
       "    <tr>\n",
       "      <th>2</th>\n",
       "      <td>0.639010</td>\n",
       "      <td>581.21</td>\n",
       "      <td>3900.20</td>\n",
       "      <td>1.16</td>\n",
       "      <td>9.686833</td>\n",
       "      <td>0.019333</td>\n",
       "    </tr>\n",
       "    <tr>\n",
       "      <th>3</th>\n",
       "      <td>1.548969</td>\n",
       "      <td>615.47</td>\n",
       "      <td>3143.88</td>\n",
       "      <td>1.19</td>\n",
       "      <td>10.257833</td>\n",
       "      <td>0.019833</td>\n",
       "    </tr>\n",
       "    <tr>\n",
       "      <th>4</th>\n",
       "      <td>12.928686</td>\n",
       "      <td>324.42</td>\n",
       "      <td>766.42</td>\n",
       "      <td>1.31</td>\n",
       "      <td>5.407000</td>\n",
       "      <td>0.021833</td>\n",
       "    </tr>\n",
       "    <tr>\n",
       "      <th>...</th>\n",
       "      <td>...</td>\n",
       "      <td>...</td>\n",
       "      <td>...</td>\n",
       "      <td>...</td>\n",
       "      <td>...</td>\n",
       "      <td>...</td>\n",
       "    </tr>\n",
       "    <tr>\n",
       "      <th>851958</th>\n",
       "      <td>5360.754510</td>\n",
       "      <td>652.37</td>\n",
       "      <td>4488.16</td>\n",
       "      <td>1.15</td>\n",
       "      <td>10.872833</td>\n",
       "      <td>0.019167</td>\n",
       "    </tr>\n",
       "    <tr>\n",
       "      <th>851959</th>\n",
       "      <td>5359.285293</td>\n",
       "      <td>693.47</td>\n",
       "      <td>1204.12</td>\n",
       "      <td>1.66</td>\n",
       "      <td>11.557833</td>\n",
       "      <td>0.027667</td>\n",
       "    </tr>\n",
       "    <tr>\n",
       "      <th>851960</th>\n",
       "      <td>5359.784850</td>\n",
       "      <td>558.44</td>\n",
       "      <td>2743.98</td>\n",
       "      <td>1.20</td>\n",
       "      <td>9.307333</td>\n",
       "      <td>0.020000</td>\n",
       "    </tr>\n",
       "    <tr>\n",
       "      <th>851961</th>\n",
       "      <td>5359.811147</td>\n",
       "      <td>474.52</td>\n",
       "      <td>2684.04</td>\n",
       "      <td>1.18</td>\n",
       "      <td>7.908667</td>\n",
       "      <td>0.019667</td>\n",
       "    </tr>\n",
       "    <tr>\n",
       "      <th>851962</th>\n",
       "      <td>5360.321421</td>\n",
       "      <td>841.71</td>\n",
       "      <td>2820.82</td>\n",
       "      <td>1.35</td>\n",
       "      <td>14.028500</td>\n",
       "      <td>0.022500</td>\n",
       "    </tr>\n",
       "  </tbody>\n",
       "</table>\n",
       "<p>851963 rows × 6 columns</p>\n",
       "</div>"
      ],
      "text/plain": [
       "          DISTANCE2  standard_deviation_travel_time  \\\n",
       "0          1.126059                          665.53   \n",
       "1          1.089601                          680.03   \n",
       "2          0.639010                          581.21   \n",
       "3          1.548969                          615.47   \n",
       "4         12.928686                          324.42   \n",
       "...             ...                             ...   \n",
       "851958  5360.754510                          652.37   \n",
       "851959  5359.285293                          693.47   \n",
       "851960  5359.784850                          558.44   \n",
       "851961  5359.811147                          474.52   \n",
       "851962  5360.321421                          841.71   \n",
       "\n",
       "        geometric_mean_travel_time  geometric_standard_deviation_travel_time  \\\n",
       "0                          1944.10                                      1.31   \n",
       "1                          3095.19                                      1.22   \n",
       "2                          3900.20                                      1.16   \n",
       "3                          3143.88                                      1.19   \n",
       "4                           766.42                                      1.31   \n",
       "...                            ...                                       ...   \n",
       "851958                     4488.16                                      1.15   \n",
       "851959                     1204.12                                      1.66   \n",
       "851960                     2743.98                                      1.20   \n",
       "851961                     2684.04                                      1.18   \n",
       "851962                     2820.82                                      1.35   \n",
       "\n",
       "         stand_tt  st_geo_tt  \n",
       "0       11.092167   0.021833  \n",
       "1       11.333833   0.020333  \n",
       "2        9.686833   0.019333  \n",
       "3       10.257833   0.019833  \n",
       "4        5.407000   0.021833  \n",
       "...           ...        ...  \n",
       "851958  10.872833   0.019167  \n",
       "851959  11.557833   0.027667  \n",
       "851960   9.307333   0.020000  \n",
       "851961   7.908667   0.019667  \n",
       "851962  14.028500   0.022500  \n",
       "\n",
       "[851963 rows x 6 columns]"
      ]
     },
     "execution_count": 96,
     "metadata": {},
     "output_type": "execute_result"
    }
   ],
   "source": [
    "x"
   ]
  },
  {
   "cell_type": "code",
   "execution_count": 80,
   "metadata": {
    "colab": {
     "base_uri": "https://localhost:8080/",
     "height": 230
    },
    "colab_type": "code",
    "id": "-Yx6sk7ZJnAs",
    "outputId": "e042ee44-b4fe-433d-886c-813f7f671c54"
   },
   "outputs": [
    {
     "data": {
      "text/plain": [
       "0         33.703667\n",
       "1         52.653500\n",
       "2         65.722333\n",
       "3         53.227333\n",
       "4         13.350833\n",
       "            ...    \n",
       "851958    75.538833\n",
       "851959    22.833333\n",
       "851960    46.552500\n",
       "851961    45.361000\n",
       "851962    49.097333\n",
       "Name: tt_in_mins, Length: 851963, dtype: float64"
      ]
     },
     "execution_count": 80,
     "metadata": {},
     "output_type": "execute_result"
    }
   ],
   "source": [
    "y"
   ]
  },
  {
   "cell_type": "code",
   "execution_count": 97,
   "metadata": {},
   "outputs": [],
   "source": [
    "#converting dataset into x_train and y_train\n",
    "scaler = MinMaxScaler(feature_range=(0, 1))\n",
    "x = scaler.fit_transform(x)"
   ]
  },
  {
   "cell_type": "code",
   "execution_count": 139,
   "metadata": {
    "colab": {},
    "colab_type": "code",
    "id": "bglWkjTCKcH9"
   },
   "outputs": [],
   "source": [
    "from sklearn.model_selection import train_test_split\n",
    "x_train,x_test,y_train,y_test=train_test_split(x,y,test_size=10,random_state=0)"
   ]
  },
  {
   "cell_type": "code",
   "execution_count": 140,
   "metadata": {},
   "outputs": [
    {
     "data": {
      "text/plain": [
       "pandas.core.series.Series"
      ]
     },
     "execution_count": 140,
     "metadata": {},
     "output_type": "execute_result"
    }
   ],
   "source": [
    "type(y_train)"
   ]
  },
  {
   "cell_type": "code",
   "execution_count": 141,
   "metadata": {
    "colab": {},
    "colab_type": "code",
    "id": "GllA9V80KiJC"
   },
   "outputs": [],
   "source": [
    "x_train, y_train, y_test = np.array(x_train), np.array(y_train) ,np.array(y_test)"
   ]
  },
  {
   "cell_type": "code",
   "execution_count": 142,
   "metadata": {
    "colab": {
     "base_uri": "https://localhost:8080/",
     "height": 292
    },
    "colab_type": "code",
    "id": "njuAkhkLKiaN",
    "outputId": "dee51892-16c6-46aa-dec6-8ba967191618"
   },
   "outputs": [
    {
     "data": {
      "text/plain": [
       "LinearRegression(copy_X=True, fit_intercept=True, n_jobs=None, normalize=False)"
      ]
     },
     "execution_count": 142,
     "metadata": {},
     "output_type": "execute_result"
    }
   ],
   "source": [
    "from sklearn.linear_model import LinearRegression\n",
    "reg=LinearRegression()\n",
    "reg.fit(x_train, y_train)"
   ]
  },
  {
   "cell_type": "code",
   "execution_count": 143,
   "metadata": {
    "colab": {
     "base_uri": "https://localhost:8080/",
     "height": 334
    },
    "colab_type": "code",
    "id": "2oxwrXo8JoyQ",
    "outputId": "3c59d52e-714c-4073-aec7-e8c2dc2b4705"
   },
   "outputs": [],
   "source": [
    "y_pred=reg.predict(x_test)"
   ]
  },
  {
   "cell_type": "code",
   "execution_count": 144,
   "metadata": {
    "colab": {},
    "colab_type": "code",
    "id": "B6c96mQZKf8k"
   },
   "outputs": [],
   "source": [
    "from sklearn.metrics import r2_score\n",
    "score=r2_score(y_test,y_pred)"
   ]
  },
  {
   "cell_type": "code",
   "execution_count": 145,
   "metadata": {
    "colab": {
     "base_uri": "https://localhost:8080/",
     "height": 352
    },
    "colab_type": "code",
    "id": "OdB3WO4IJztf",
    "outputId": "4cc0aea1-37e0-46f7-a30f-93eacffee290"
   },
   "outputs": [
    {
     "data": {
      "text/plain": [
       "0.9903554223169252"
      ]
     },
     "execution_count": 145,
     "metadata": {},
     "output_type": "execute_result"
    }
   ],
   "source": [
    "score"
   ]
  },
  {
   "cell_type": "code",
   "execution_count": 146,
   "metadata": {
    "colab": {},
    "colab_type": "code",
    "id": "J83XeuyoKClr"
   },
   "outputs": [
    {
     "data": {
      "text/plain": [
       "0.9471022786384896"
      ]
     },
     "execution_count": 146,
     "metadata": {},
     "output_type": "execute_result"
    }
   ],
   "source": [
    "from sklearn.metrics import mean_absolute_error\n",
    "mean_absolute_error(y_test, y_pred)"
   ]
  },
  {
   "cell_type": "code",
   "execution_count": 130,
   "metadata": {
    "colab": {},
    "colab_type": "code",
    "id": "4CNdUd9DKJm3"
   },
   "outputs": [
    {
     "data": {
      "text/plain": [
       "33858.10123270587"
      ]
     },
     "execution_count": 130,
     "metadata": {},
     "output_type": "execute_result"
    }
   ],
   "source": []
  },
  {
   "cell_type": "code",
   "execution_count": null,
   "metadata": {},
   "outputs": [],
   "source": []
  }
 ],
 "metadata": {
  "colab": {
   "name": "Untitled10.ipynb",
   "provenance": []
  },
  "kernelspec": {
   "display_name": "Python 3",
   "language": "python",
   "name": "python3"
  },
  "language_info": {
   "codemirror_mode": {
    "name": "ipython",
    "version": 3
   },
   "file_extension": ".py",
   "mimetype": "text/x-python",
   "name": "python",
   "nbconvert_exporter": "python",
   "pygments_lexer": "ipython3",
   "version": "3.7.7"
  }
 },
 "nbformat": 4,
 "nbformat_minor": 1
}
